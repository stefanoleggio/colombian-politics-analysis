{
 "cells": [
  {
   "cell_type": "code",
   "execution_count": 24,
   "id": "9caf734b",
   "metadata": {},
   "outputs": [],
   "source": [
    "import pandas as pd\n",
    "import psycopg2\n",
    "from sshtunnel import SSHTunnelForwarder"
   ]
  },
  {
   "cell_type": "code",
   "execution_count": 71,
   "id": "1f4262ea",
   "metadata": {},
   "outputs": [],
   "source": [
    "data = pd.read_csv('users.csv')\n",
    "data = data.drop('Label',1)\n",
    "data = data.drop('timeset',1)\n",
    "data = data.rename(columns = {'Id':'user_id'})\n",
    "topic = pd.read_csv('topics.csv')"
   ]
  },
  {
   "cell_type": "code",
   "execution_count": 65,
   "id": "0f330cfb",
   "metadata": {},
   "outputs": [],
   "source": [
    "def fetchTopic(topic):\n",
    "    idtweet_topic_pol = \"SELECT twitter_id FROM public.tweet JOIN public.tweet_topic ON id_tweet = id WHERE id_topic = \"+topic\n",
    "    replies = \"SELECT id, user_id FROM public.tweet JOIN (\"+ idtweet_topic_pol +\") as Pol ON tweet.in_reply_twitter_id = Pol.twitter_id\"\n",
    "    replies_sentiment = \"SELECT id, user_id, sentiment FROM tweet_sentiment JOIN (\"+ replies +\") as Rep ON id_tweet = id;\"\n",
    "    try:\n",
    "        with SSHTunnelForwarder(\n",
    "            ('161.35.123.231', 22),\n",
    "            ssh_username=\"postgres\",\n",
    "            ssh_password=\"dbConn2021!\", \n",
    "            remote_bind_address=('localhost', 5432)) as server:\n",
    "\n",
    "            print(\"server connected\")\n",
    "\n",
    "            keepalive_kwargs = {\n",
    "                \"keepalives\": 1,\n",
    "                \"keepalives_idle\": 60,\n",
    "                \"keepalives_interval\": 10,\n",
    "                \"keepalives_count\": 5\n",
    "            }\n",
    "            params = {\n",
    "                'database': 'tweetproject',\n",
    "                'user': 'postgres',\n",
    "                'password': 'padova2021',\n",
    "                'host': server.local_bind_host,\n",
    "                'port': server.local_bind_port,\n",
    "                **keepalive_kwargs\n",
    "                }\n",
    "\n",
    "            conn = psycopg2.connect(**params)\n",
    "            curs = conn.cursor()\n",
    "            print(\"database connected\")\n",
    "            curs.execute(replies_sentiment)\n",
    "            output = pd.DataFrame.from_records(curs, columns = ['id','user_id','sentiment'])\n",
    "            print(\"query done\")\n",
    "            return output\n",
    "\n",
    "    except (Exception) as error:\n",
    "            print(\"Connection Failed\")\n",
    "            print(error)"
   ]
  },
  {
   "cell_type": "code",
   "execution_count": 67,
   "id": "531c7dab",
   "metadata": {},
   "outputs": [
    {
     "name": "stdout",
     "output_type": "stream",
     "text": [
      "server connected\n",
      "database connected\n",
      "query done\n",
      "server connected\n",
      "database connected\n",
      "query done\n",
      "server connected\n",
      "database connected\n",
      "query done\n",
      "server connected\n",
      "database connected\n",
      "query done\n",
      "server connected\n",
      "database connected\n",
      "query done\n",
      "server connected\n",
      "database connected\n",
      "query done\n",
      "server connected\n",
      "database connected\n",
      "query done\n",
      "server connected\n",
      "database connected\n",
      "query done\n",
      "server connected\n",
      "database connected\n",
      "query done\n",
      "server connected\n",
      "database connected\n",
      "query done\n"
     ]
    }
   ],
   "source": [
    "replies = {}\n",
    "for tp_id in topic['id']:\n",
    "    replies[tp_id] = fetchTopic(str(tp_id))"
   ]
  },
  {
   "cell_type": "code",
   "execution_count": 96,
   "id": "defb58e7",
   "metadata": {},
   "outputs": [],
   "source": [
    "mod_classes = data.groupby('modularity_class')\n",
    "for tp_id,tp_label in zip(topic['id'],topic['label']):\n",
    "    out = pd.DataFrame(columns = ('modularity_class','sentiment'))\n",
    "    for community in mod_classes:\n",
    "        temp = community[1].merge(replies[tp_id], how = 'inner', on = 'user_id')\n",
    "        out = pd.concat([out,temp[['modularity_class', 'sentiment']]])\n",
    "    out[['modularity_class', 'sentiment']].to_csv('data/'+tp_label+'.csv')"
   ]
  },
  {
   "cell_type": "code",
   "execution_count": null,
   "id": "b177aa03",
   "metadata": {},
   "outputs": [],
   "source": []
  }
 ],
 "metadata": {
  "kernelspec": {
   "display_name": "Python 3 (ipykernel)",
   "language": "python",
   "name": "python3"
  },
  "language_info": {
   "codemirror_mode": {
    "name": "ipython",
    "version": 3
   },
   "file_extension": ".py",
   "mimetype": "text/x-python",
   "name": "python",
   "nbconvert_exporter": "python",
   "pygments_lexer": "ipython3",
   "version": "3.8.8"
  }
 },
 "nbformat": 4,
 "nbformat_minor": 5
}
