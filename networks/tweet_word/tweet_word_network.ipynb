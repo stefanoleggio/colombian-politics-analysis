{
 "cells": [
  {
   "cell_type": "code",
   "execution_count": 1,
   "id": "6f0ac7f1",
   "metadata": {},
   "outputs": [],
   "source": [
    "import pandas as pd\n",
    "import numpy as np\n",
    "import re\n",
    "import json\n",
    "import networkx as nx\n",
    "from networkx.algorithms import bipartite \n",
    "import matplotlib.pyplot as plt\n",
    "\n",
    "import community as community_louvain\n",
    "import tqdm\n",
    "from math import log\n"
   ]
  },
  {
   "cell_type": "code",
   "execution_count": 2,
   "id": "bdf5780a",
   "metadata": {},
   "outputs": [],
   "source": [
    "# load all tweet data\n",
    "tweets = pd.read_csv(\"../../../data/tweets.csv\")\n",
    "tweets['hashtag'] = tweets['full_text'].apply(lambda x: re.findall(r'#(\\w+)', x))\n",
    "tweets[\"is_reply\"] = [int(~np.isnan(tweet)) for tweet in tweets[\"in_reply_twitter_id\"]]\n",
    "tweets = tweets.rename(columns = {'id':'id_tweet'})\n",
    "\n",
    "# load tweet topic data\n",
    "tweet_topic = pd.read_csv(\"../../../data/tweet_topic.csv\")"
   ]
  },
  {
   "cell_type": "code",
   "execution_count": 3,
   "id": "01e7a704",
   "metadata": {},
   "outputs": [],
   "source": [
    "# load all processed tweets\n",
    "with open(\"../../../ColombianPoliticsSentiment/final_lda_model/bow_corpus_all_records.json\") as f:\n",
    "    bow = json.load(f)\n",
    "\n",
    "# load the dictionary\n",
    "import gensim\n",
    "dictionary_spanish = gensim.corpora.Dictionary.load(\"../../../ColombianPoliticsSentiment/final_lda_model/final_lda_model.model.id2word\")\n",
    "\n",
    "word_dict = {}\n",
    "for x,y in dictionary_spanish.items():\n",
    "    word_dict[x] = y"
   ]
  },
  {
   "cell_type": "code",
   "execution_count": 4,
   "id": "e8d53903",
   "metadata": {},
   "outputs": [
    {
     "name": "stdout",
     "output_type": "stream",
     "text": [
      "1899\n"
     ]
    }
   ],
   "source": [
    "# add tweet id to bow\n",
    "bow_alt = [[tweets['id_tweet'][idx], b] for idx, b in enumerate(bow)]\n",
    "\n",
    "# remove empty tweets and replies from bow\n",
    "bow_cl = [[b[0],b[1]] for b in bow_alt if len(b[1]) > 0]\n",
    "tweet_ids = tweets['id_tweet'][tweets['is_reply'] == 0]\n",
    "bow_cl = [[b[0],b[1]] for b in bow_cl if b[0] in tweet_ids]\n",
    "\n",
    "# remove words that occur only once\n",
    "word_count = {}\n",
    "for b in bow_cl:\n",
    "    for w,c in b[1]:\n",
    "        try:\n",
    "            word_count[w] += c\n",
    "        except:\n",
    "            word_count[w] = 0\n",
    "            word_count[w] += c\n",
    "\n",
    "word_remove = [w for w,c in word_count.items() if c < 5]\n",
    "print(len(word_remove))\n",
    "\n",
    "bow_cl = [[idx,[[w,c] for w,c in b if w not in word_remove]] for idx,b in bow_cl]"
   ]
  },
  {
   "cell_type": "code",
   "execution_count": 5,
   "id": "ccc05f37",
   "metadata": {},
   "outputs": [],
   "source": [
    "# keep only original tweets\n",
    "word_tweet_edges = []\n",
    "word_nodes = []\n",
    "for b in bow_cl:\n",
    "    n_words = sum([c for w,c in b[1]])\n",
    "    for w in b[1]:\n",
    "        word_tweet_edges.append((word_dict[w[0]],b[0],w[1]/n_words))"
   ]
  },
  {
   "cell_type": "code",
   "execution_count": 6,
   "id": "7aabb576",
   "metadata": {},
   "outputs": [
    {
     "name": "stdout",
     "output_type": "stream",
     "text": [
      "2320\n",
      "14763\n"
     ]
    }
   ],
   "source": [
    "word_G = nx.Graph()\n",
    "word_G.add_weighted_edges_from(word_tweet_edges)\n",
    "print(len(word_G.nodes()))\n",
    "print(len(word_G.edges()))\n",
    "# create list of word nodes\n",
    "word_nodes = list(np.unique([j[0] for j in word_tweet_edges]))"
   ]
  },
  {
   "cell_type": "code",
   "execution_count": 7,
   "id": "2347655f",
   "metadata": {},
   "outputs": [
    {
     "name": "stdout",
     "output_type": "stream",
     "text": [
      "981\n",
      "56951\n"
     ]
    }
   ],
   "source": [
    "# project network onto words\n",
    "word_proj = bipartite.weighted_projected_graph(word_G,nodes = word_nodes,ratio=False)\n",
    "\n",
    "print(len(word_proj.nodes()))\n",
    "print(len(word_proj.edges()))"
   ]
  },
  {
   "cell_type": "code",
   "execution_count": 8,
   "id": "6b4626d0",
   "metadata": {},
   "outputs": [],
   "source": [
    "# reformat the adjacency matrix to enable the use of neurotools\n",
    "ordered_words = [w for w,d in word_proj.adjacency()]\n",
    "word_to_index = dict(zip(ordered_words,list(range(len(ordered_words)))))\n",
    "adj_matrix = np.zeros((len(ordered_words),len(ordered_words)))\n",
    "\n",
    "for w,d in word_proj.adjacency():\n",
    "    row_idx = word_to_index[w]\n",
    "    for w2,wd in d.items():\n",
    "        col_idx = word_to_index[w2]\n",
    "        adj_matrix[row_idx, col_idx] = wd['weight']"
   ]
  },
  {
   "cell_type": "code",
   "execution_count": 17,
   "id": "37d85486",
   "metadata": {},
   "outputs": [
    {
     "name": "stderr",
     "output_type": "stream",
     "text": [
      "\r",
      "  0%|                                                                                                                               | 0/10 [00:00<?, ?it/s]"
     ]
    },
    {
     "name": "stdout",
     "output_type": "stream",
     "text": [
      "gamma value 1: gamma = 0.1000\n"
     ]
    },
    {
     "name": "stderr",
     "output_type": "stream",
     "text": [
      "\r",
      " 10%|███████████▉                                                                                                           | 1/10 [00:16<02:29, 16.66s/it]"
     ]
    },
    {
     "name": "stdout",
     "output_type": "stream",
     "text": [
      "gamma value 2: gamma = 0.1556\n"
     ]
    },
    {
     "name": "stderr",
     "output_type": "stream",
     "text": [
      "\r",
      " 20%|███████████████████████▊                                                                                               | 2/10 [00:33<02:15, 16.93s/it]"
     ]
    },
    {
     "name": "stdout",
     "output_type": "stream",
     "text": [
      "gamma value 3: gamma = 0.2111\n"
     ]
    },
    {
     "name": "stderr",
     "output_type": "stream",
     "text": [
      "\r",
      " 30%|███████████████████████████████████▋                                                                                   | 3/10 [00:50<01:56, 16.68s/it]"
     ]
    },
    {
     "name": "stdout",
     "output_type": "stream",
     "text": [
      "gamma value 4: gamma = 0.2667\n"
     ]
    },
    {
     "name": "stderr",
     "output_type": "stream",
     "text": [
      "\r",
      " 40%|███████████████████████████████████████████████▌                                                                       | 4/10 [01:07<01:41, 16.89s/it]"
     ]
    },
    {
     "name": "stdout",
     "output_type": "stream",
     "text": [
      "gamma value 5: gamma = 0.3222\n"
     ]
    },
    {
     "name": "stderr",
     "output_type": "stream",
     "text": [
      "\r",
      " 50%|███████████████████████████████████████████████████████████▌                                                           | 5/10 [01:26<01:27, 17.55s/it]"
     ]
    },
    {
     "name": "stdout",
     "output_type": "stream",
     "text": [
      "gamma value 6: gamma = 0.3778\n"
     ]
    },
    {
     "name": "stderr",
     "output_type": "stream",
     "text": [
      "\r",
      " 60%|███████████████████████████████████████████████████████████████████████▍                                               | 6/10 [01:46<01:13, 18.46s/it]"
     ]
    },
    {
     "name": "stdout",
     "output_type": "stream",
     "text": [
      "gamma value 7: gamma = 0.4333\n"
     ]
    },
    {
     "name": "stderr",
     "output_type": "stream",
     "text": [
      "\r",
      " 70%|███████████████████████████████████████████████████████████████████████████████████▎                                   | 7/10 [02:05<00:55, 18.59s/it]"
     ]
    },
    {
     "name": "stdout",
     "output_type": "stream",
     "text": [
      "gamma value 8: gamma = 0.4889\n"
     ]
    },
    {
     "name": "stderr",
     "output_type": "stream",
     "text": [
      "\r",
      " 80%|███████████████████████████████████████████████████████████████████████████████████████████████▏                       | 8/10 [02:26<00:38, 19.33s/it]"
     ]
    },
    {
     "name": "stdout",
     "output_type": "stream",
     "text": [
      "gamma value 9: gamma = 0.5444\n"
     ]
    },
    {
     "name": "stderr",
     "output_type": "stream",
     "text": [
      "\r",
      " 90%|███████████████████████████████████████████████████████████████████████████████████████████████████████████            | 9/10 [02:47<00:20, 20.03s/it]"
     ]
    },
    {
     "name": "stdout",
     "output_type": "stream",
     "text": [
      "gamma value 10: gamma = 0.6000\n"
     ]
    },
    {
     "name": "stderr",
     "output_type": "stream",
     "text": [
      "100%|██████████████████████████████████████████████████████████████████████████████████████████████████████████████████████| 10/10 [03:10<00:00, 19.04s/it]\n"
     ]
    }
   ],
   "source": [
    "import bct\n",
    "from netneurotools import cluster \n",
    "repeats = 20\n",
    "gammas = np.linspace(0.8,1.5,30)\n",
    "communities = []\n",
    "iteration = 1\n",
    "for g in tqdm.tqdm(gammas):\n",
    "    print(f'gamma value {iteration}: gamma = {g:.4f}')\n",
    "    first_step = [bct.community_louvain(adj_matrix, gamma = g) for n in range(repeats)]\n",
    "    cm, D = cluster.find_consensus(np.column_stack([t[0] for t in first_step]),return_agreement = True)\n",
    "    second_step = bct.community_louvain(D, gamma = g, ci = cm)\n",
    "    it = 1\n",
    "    while sum(cm == second_step[0]) != adj_matrix.shape[0]:\n",
    "        print(f'\\tsecond step number {it}')\n",
    "        cm, D = cluster.find_consensus(np.column_stack((cm,second_step[0])),return_agreement = True)\n",
    "        second_step = bct.community_louvain(D, gamma = g, ci = cm)\n",
    "        it += 1\n",
    "        if it == 5: #sometimes the algorithm gets trapped in some local minimum or so, thus break out of the loop\n",
    "            break\n",
    "    communities.append(second_step)\n",
    "    iteration += 1"
   ]
  },
  {
   "cell_type": "code",
   "execution_count": 18,
   "id": "077e8c3a",
   "metadata": {},
   "outputs": [],
   "source": [
    "from sklearn.metrics import normalized_mutual_info_score\n",
    "# calculate the mutual information for different resolution parameters\n",
    "MI = [np.nan]\n",
    "for j in range(len(communities)):\n",
    "    MI.append(normalized_mutual_info_score(communities[j][0],communities[j+1][0]))\n",
    "    if j == len(communities)-2:\n",
    "        break"
   ]
  },
  {
   "cell_type": "code",
   "execution_count": 19,
   "id": "089dde18",
   "metadata": {},
   "outputs": [
    {
     "data": {
      "image/png": "[encoded data removed]",
      "text/plain": [
       "<Figure size 360x360 with 1 Axes>"
      ]
     },
     "metadata": {
      "needs_background": "light"
     },
     "output_type": "display_data"
    }
   ],
   "source": [
    "# plot mutual information for different resolution parameters\n",
    "plt.figure(figsize = (5,5))\n",
    "plt.plot(gammas,MI)\n",
    "plt.xlabel(\"Gamma\")\n",
    "plt.ylabel(\"Normalised Mutual Information\")\n",
    "plt.savefig(\"resolution_tuning.png\",dpi = 500)\n",
    "plt.show()"
   ]
  },
  {
   "cell_type": "code",
   "execution_count": 20,
   "id": "7b1d94f7",
   "metadata": {},
   "outputs": [
    {
     "data": {
      "image/png": "[encoded data removed]",
      "text/plain": [
       "<Figure size 360x360 with 1 Axes>"
      ]
     },
     "metadata": {
      "needs_background": "light"
     },
     "output_type": "display_data"
    }
   ],
   "source": [
    "plt.figure(figsize = (5,5))\n",
    "plt.scatter(gammas,[len(np.unique(p[0])) for p in communities])\n",
    "plt.xlabel(\"Gamma\")\n",
    "plt.ylabel(\"Number of communities\")\n",
    "plt.savefig(\"gamma_vs_communities.png\",dpi = 500)\n",
    "plt.show()"
   ]
  },
  {
   "cell_type": "code",
   "execution_count": 77,
   "id": "b36bcce7",
   "metadata": {},
   "outputs": [
    {
     "data": {
      "image/png": "[encoded data removed]",
      "text/plain": [
       "<Figure size 360x360 with 1 Axes>"
      ]
     },
     "metadata": {
      "needs_background": "light"
     },
     "output_type": "display_data"
    }
   ],
   "source": [
    "plt.figure(figsize = (5,5))\n",
    "plt.scatter(gammas,[p[1] for p in communities])\n",
    "plt.xlabel(\"Gamma\")\n",
    "plt.ylabel(\"Modularity\")\n",
    "plt.show()"
   ]
  },
  {
   "cell_type": "code",
   "execution_count": 82,
   "id": "1de4d337",
   "metadata": {},
   "outputs": [],
   "source": [
    "# fit the final model using the suboptimal value of gamma\n",
    "repeats = 250\n",
    "first_step = [bct.community_louvain(adj_matrix, gamma = 1) for n in range(repeats)]\n",
    "cm, D = cluster.find_consensus(np.column_stack([t[0] for t in first_step]),return_agreement = True)\n",
    "second_step = bct.community_louvain(D, gamma = 1, ci = cm)\n",
    "it = 1\n",
    "while sum(cm == second_step[0]) != adj_matrix.shape[0]:\n",
    "    print(f'\\tsecond step number {it}')\n",
    "    cm, D = cluster.find_consensus(np.column_stack((cm,second_step[0])),return_agreement = True)\n",
    "    second_step = bct.community_louvain(D, gamma = 1, ci = cm)\n",
    "    it += 1\n",
    "    if it == 5: #sometimes the algorithm gets trapped in some local minimum or so, thus break out of the loop\n",
    "        break\n",
    "\n",
    "final_partition = second_step[0]"
   ]
  },
  {
   "cell_type": "code",
   "execution_count": 85,
   "id": "d6bbab00",
   "metadata": {},
   "outputs": [],
   "source": [
    "# create a dictionary assigning each word to a community\n",
    "word_community_dict = dict(zip(ordered_words,final_partition))\n",
    "\n",
    "# create a community_word_dictionary\n",
    "community_word_dict = {}\n",
    "for w,c in word_community_dict.items():\n",
    "    try:\n",
    "        community_word_dict[c] += [w]\n",
    "    except: \n",
    "        community_word_dict[c] = []\n",
    "        community_word_dict[c] += [w]"
   ]
  },
  {
   "cell_type": "code",
   "execution_count": 86,
   "id": "1c578d07",
   "metadata": {},
   "outputs": [],
   "source": [
    "# assign each tweet to the \"best community\"\n",
    "tweet_communities = []\n",
    "for idx, b in bow_cl:\n",
    "    com_count = dict(zip(list(community_word_dict.keys()),np.repeat(0,len(community_word_dict))))\n",
    "    for w,n in b:\n",
    "        com_count[word_community_dict[word_dict[w]]] += n\n",
    "    community = list(com_count.keys())[np.argmax(list(com_count.values()))] \n",
    "    tweet_communities.append((idx,community))"
   ]
  },
  {
   "cell_type": "code",
   "execution_count": 87,
   "id": "30f09e9b",
   "metadata": {},
   "outputs": [
    {
     "name": "stdout",
     "output_type": "stream",
     "text": [
      "981\n",
      "56951\n"
     ]
    }
   ],
   "source": [
    "print(len(word_proj.nodes()))\n",
    "print(len(word_proj.edges()))"
   ]
  },
  {
   "cell_type": "code",
   "execution_count": 88,
   "id": "592190f9",
   "metadata": {},
   "outputs": [],
   "source": [
    "# append the community as a property to each node\n",
    "for i in word_proj.nodes:\n",
    "    word_proj.nodes[i]['community'] = word_community_dict[i]"
   ]
  },
  {
   "cell_type": "code",
   "execution_count": 89,
   "id": "a0cf457d",
   "metadata": {},
   "outputs": [
    {
     "data": {
      "text/plain": [
       "[245, 229, 68, 21, 317, 101]"
      ]
     },
     "execution_count": 89,
     "metadata": {},
     "output_type": "execute_result"
    }
   ],
   "source": [
    "[len(community_word_dict[j]) for j in community_word_dict.keys()]"
   ]
  },
  {
   "cell_type": "code",
   "execution_count": 90,
   "id": "4fc15ab2",
   "metadata": {},
   "outputs": [],
   "source": [
    "# save network\n",
    "nx.write_graphml(word_proj,'word_communities_network.graphml')"
   ]
  },
  {
   "cell_type": "code",
   "execution_count": 91,
   "id": "f3c93a96",
   "metadata": {},
   "outputs": [],
   "source": [
    "# compare to LDA community assignment\n",
    "louvain_coms = pd.DataFrame({\n",
    "    \"id_tweet\":[j[0] for j in tweet_communities],\n",
    "    \"louvain_community\":[j[1] for j in tweet_communities]\n",
    "})\n",
    "\n",
    "louvain_coms = pd.merge(louvain_coms,tweet_topic[[\"id_tweet\",'id_topic','lda_topic']],on = \"id_tweet\")"
   ]
  },
  {
   "cell_type": "code",
   "execution_count": 92,
   "id": "f5f1226d",
   "metadata": {},
   "outputs": [
    {
     "data": {
      "text/plain": [
       "0.10008174738338885"
      ]
     },
     "execution_count": 92,
     "metadata": {},
     "output_type": "execute_result"
    }
   ],
   "source": [
    "normalized_mutual_info_score(louvain_coms['louvain_community'], louvain_coms['id_topic'])"
   ]
  },
  {
   "cell_type": "code",
   "execution_count": 93,
   "id": "64edc954",
   "metadata": {},
   "outputs": [
    {
     "data": {
      "text/plain": [
       "0.1082229701370916"
      ]
     },
     "execution_count": 93,
     "metadata": {},
     "output_type": "execute_result"
    }
   ],
   "source": [
    "normalized_mutual_info_score(louvain_coms['louvain_community'], louvain_coms['lda_topic'])"
   ]
  },
  {
   "cell_type": "code",
   "execution_count": 94,
   "id": "866ca1ca",
   "metadata": {},
   "outputs": [
    {
     "data": {
      "text/plain": [
       "0.9479406874048835"
      ]
     },
     "execution_count": 94,
     "metadata": {},
     "output_type": "execute_result"
    }
   ],
   "source": [
    "normalized_mutual_info_score(louvain_coms['id_topic'], louvain_coms['lda_topic'])"
   ]
  },
  {
   "cell_type": "code",
   "execution_count": 67,
   "id": "8fc2faea",
   "metadata": {},
   "outputs": [
    {
     "name": "stdout",
     "output_type": "stream",
     "text": [
      "      id_tweet  louvain_community  id_topic\n",
      "0            1                  1         7\n",
      "38          39                  5         7\n",
      "47          48                  1         7\n",
      "73          74                  5         7\n",
      "76          77                  1         7\n",
      "79          80                  1         7\n",
      "81          82                  5         7\n",
      "104        105                  5         7\n",
      "146        148                  5         7\n",
      "190        192                  5         7\n",
      "228        230                  1         7\n",
      "328        330                  5         7\n",
      "370        372                  1         7\n",
      "382        386                  1         7\n",
      "384        388                  1         7\n",
      "400        404                  1         7\n",
      "428        433                  1         7\n",
      "434        440                  1         7\n",
      "443        449                  1         7\n",
      "446        452                  1         7\n",
      "459        466                  2         7\n",
      "477        484                  1         7\n",
      "531        539                  1         7\n",
      "575        586                  1         7\n",
      "779        795                  1         7\n",
      "786        807                  1         7\n",
      "794      32457                  3         7\n",
      "802      32450                  5         7\n",
      "904      32555                  1         7\n",
      "916      32569                  5         7\n",
      "951      52795                  5         7\n",
      "998      57111                  5         7\n",
      "1015     57129                  3         7\n",
      "1030     57143                  2         7\n",
      "1033     57146                  5         7\n",
      "1034     57147                  5         7\n",
      "1035     57148                  2         7\n",
      "1039     57153                  5         7\n",
      "1041     57155                  5         7\n",
      "1042     57156                  6         7\n",
      "1045     57159                  5         7\n",
      "1051     59795                  1         7\n",
      "1068     59812                  1         7\n",
      "1070     59814                  3         7\n",
      "1071     59815                  2         7\n",
      "1073     59817                  1         7\n",
      "1082     59827                  5         7\n",
      "1084     59832                  5         7\n",
      "1100     75242                  1         7\n",
      "1137     75279                  5         7\n",
      "1142     75284                  1         7\n",
      "1248     89058                  5         7\n",
      "1286     89097                  5         7\n",
      "1292     89104                  5         7\n",
      "1321     89134                  5         7\n",
      "1344     89157                  5         7\n"
     ]
    }
   ],
   "source": [
    "print(louvain_coms[louvain_coms['id_topic'] == 7])"
   ]
  }
 ],
 "metadata": {
  "kernelspec": {
   "display_name": "Python 3 (ipykernel)",
   "language": "python",
   "name": "python3"
  },
  "language_info": {
   "codemirror_mode": {
    "name": "ipython",
    "version": 3
   },
   "file_extension": ".py",
   "mimetype": "text/x-python",
   "name": "python",
   "nbconvert_exporter": "python",
   "pygments_lexer": "ipython3",
   "version": "3.8.2"
  }
 },
 "nbformat": 4,
 "nbformat_minor": 5
}
